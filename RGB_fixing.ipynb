{
 "cells": [
  {
   "cell_type": "markdown",
   "id": "c2ff8d5e",
   "metadata": {},
   "source": [
    "# Attempting to fix the rogue RGB values"
   ]
  },
  {
   "cell_type": "markdown",
   "id": "4f2fd55b",
   "metadata": {},
   "source": [
    "We still have some cells with the improper RGB values. We will try to fix these pixels by replacing the RGB values with the RGB values from the next cell over"
   ]
  },
  {
   "cell_type": "code",
   "execution_count": 14,
   "id": "d9242566",
   "metadata": {},
   "outputs": [],
   "source": [
    "from PIL import Image\n",
    "from PIL import ImageOps\n",
    "import numpy as np\n",
    "import pandas as pd\n",
    "import sys\n",
    "\n",
    "# Open image\n",
    "img = Image.open(\"geologic_map_from_data.png\")\n",
    "\n",
    "#Remove transparency from image\n",
    "img = img.convert('RGB')\n",
    "\n",
    "# Can use the following command to change resolution if needed, not needed right now\n",
    "#img = img.resize((5050, 3741), resample=Image.Resampling.NEAREST)\n",
    "\n",
    "#posterize image to smooth rgb values, this can be used for easy reduction of stray RGB values, although some are still left\n",
    "#img_p = ImageOps.posterize(img, 2) \n",
    "\n",
    "# Scale back up using NEAREST to original size\n",
    "#map_pixel_big = map_pixel.resize(img.size, Image.Resampling.NEAREST)\n",
    "#pixel_post_big = pixel_post.resize(img.size, Image.Resampling.NEAREST)\n",
    "\n",
    "# Save any changes made to the image (changes to resolution or posterization)\n",
    "#img.save('map.png')\n",
    "#img_p.save('posterized.png')"
   ]
  },
  {
   "cell_type": "code",
   "execution_count": 52,
   "id": "1c385cde",
   "metadata": {},
   "outputs": [
    {
     "data": {
      "text/plain": [
       "array([[[ 49, 210, 228],\n",
       "        [ 49, 210, 228],\n",
       "        [ 49, 210, 228],\n",
       "        [ 49, 210, 228]],\n",
       "\n",
       "       [[ 49, 210, 228],\n",
       "        [ 49, 210, 228],\n",
       "        [ 49, 210, 228],\n",
       "        [ 49, 210, 228]],\n",
       "\n",
       "       [[ 49, 210, 228],\n",
       "        [ 49, 210, 228],\n",
       "        [ 51, 211, 228],\n",
       "        [143, 230, 240]],\n",
       "\n",
       "       [[ 49, 210, 228],\n",
       "        [ 68, 214, 230],\n",
       "        [196, 242, 247],\n",
       "        [255, 255, 255]]], dtype=uint8)"
      ]
     },
     "execution_count": 52,
     "metadata": {},
     "output_type": "execute_result"
    }
   ],
   "source": [
    "#Convert image to an array\n",
    "arr = np.array(img)\n",
    "arr_test = arr[2000:2004,3100:3104]\n",
    "\n",
    "#determine the shape of the array\n",
    "arr_test\n"
   ]
  },
  {
   "cell_type": "code",
   "execution_count": null,
   "id": "0a4fc851",
   "metadata": {},
   "outputs": [],
   "source": [
    "# We need to remove any unwanted RGB values\n",
    "# We will do this by replacing any unwanted values with the nearest wanted value in the array\n",
    "arr_s = np.empty(shape=(4,4,3), dtype = int)\n",
    "for x in range(4):\n",
    "    for y in range(4):\n",
    "        if np.array_equal(arr_test[x,y],[ 49, 210, 228]) or np.array_equal(arr_test[x,y],[255, 255, 255]):\n",
    "            arr_s[x,y] = arr_test[x,y]\n",
    "        else:\n",
    "            arr_s[x,y] = arr_s[x-1,y]\n",
    "            #arr_s[x,y] = [0,0,0]"
   ]
  },
  {
   "cell_type": "code",
   "execution_count": 51,
   "id": "e5410940",
   "metadata": {},
   "outputs": [
    {
     "data": {
      "text/plain": [
       "array([[[ 49, 210, 228],\n",
       "        [ 49, 210, 228],\n",
       "        [ 49, 210, 228],\n",
       "        [ 49, 210, 228]],\n",
       "\n",
       "       [[ 49, 210, 228],\n",
       "        [ 49, 210, 228],\n",
       "        [ 49, 210, 228],\n",
       "        [ 49, 210, 228]],\n",
       "\n",
       "       [[ 49, 210, 228],\n",
       "        [ 49, 210, 228],\n",
       "        [ 49, 210, 228],\n",
       "        [ 49, 210, 228]],\n",
       "\n",
       "       [[ 49, 210, 228],\n",
       "        [ 49, 210, 228],\n",
       "        [ 49, 210, 228],\n",
       "        [255, 255, 255]]])"
      ]
     },
     "execution_count": 51,
     "metadata": {},
     "output_type": "execute_result"
    }
   ],
   "source": [
    "arr_s"
   ]
  },
  {
   "cell_type": "code",
   "execution_count": null,
   "id": "729ebdbd",
   "metadata": {},
   "outputs": [],
   "source": [
    "#currently we have a 3D array, we want a 2D array which is easier to manipulate\n",
    "#DONT RUN YET\n",
    "arr_rgb = np.empty(shape=(4276,5771), dtype = int)\n",
    "rows, cols, z = arr.shape\n",
    "for x in range(rows):  \n",
    "    for y in range(cols):\n",
    "        arr_rgb[x,y] = ''.join(str(n) for n in arr[x,y])\n",
    "arr_rgb.shape"
   ]
  }
 ],
 "metadata": {
  "kernelspec": {
   "display_name": "base",
   "language": "python",
   "name": "python3"
  },
  "language_info": {
   "codemirror_mode": {
    "name": "ipython",
    "version": 3
   },
   "file_extension": ".py",
   "mimetype": "text/x-python",
   "name": "python",
   "nbconvert_exporter": "python",
   "pygments_lexer": "ipython3",
   "version": "3.12.4"
  }
 },
 "nbformat": 4,
 "nbformat_minor": 5
}
